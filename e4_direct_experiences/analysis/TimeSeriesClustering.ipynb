{
 "cells": [
  {
   "attachments": {},
   "cell_type": "markdown",
   "metadata": {
    "id": "Er_oUb7buLIt",
    "pycharm": {
     "name": "#%% md\n"
    }
   },
   "source": [
    "# Content\n",
    "\n",
    "Time series clustering using K means with Euclidean and DTW distance"
   ]
  },
  {
   "cell_type": "code",
   "execution_count": null,
   "metadata": {
    "colab": {
     "base_uri": "https://localhost:8080/",
     "height": 368
    },
    "id": "wfCh4bBIuLIx",
    "outputId": "7348a3fa-bcf0-4494-b901-eddb0a3a8066",
    "pycharm": {
     "name": "#%%\n"
    }
   },
   "outputs": [],
   "source": [
    "%matplotlib inline\n",
    "from tslearn.clustering import silhouette_score\n",
    "\n",
    "import numpy as np\n",
    "import matplotlib.pyplot as plt\n",
    "plt.rcParams['figure.figsize'] = [25, 8]\n",
    "\n",
    "from tslearn.clustering import TimeSeriesKMeans\n",
    "import pandas as pd\n",
    "import matplotlib\n",
    "import json\n"
   ]
  },
  {
   "attachments": {},
   "cell_type": "markdown",
   "metadata": {
    "pycharm": {
     "name": "#%% md\n"
    }
   },
   "source": [
    "# Preparing the data"
   ]
  },
  {
   "cell_type": "code",
   "execution_count": null,
   "metadata": {
    "collapsed": false,
    "pycharm": {
     "name": "#%%\n"
    }
   },
   "outputs": [],
   "source": [
    "data = pd.read_csv('./data/data_long.csv')\n",
    "\n",
    "def listify(row):\n",
    "    row = str(row).replace('[', '').replace(']', '').split(',')\n",
    "    row = [float(y) for y in row]\n",
    "\n",
    "    return np.asarray(row)\n",
    "\n",
    "data.loc[:, 'points'] = data.loc[:, 'points'].apply(listify)\n",
    "points = data['points']"
   ]
  },
  {
   "cell_type": "code",
   "execution_count": null,
   "metadata": {
    "id": "fJar_Zv0uLI0",
    "outputId": "af7264dd-7e82-4c80-ccd7-3de23b18105e",
    "pycharm": {
     "name": "#%%\n"
    }
   },
   "outputs": [],
   "source": [
    "\n",
    "points = np.array(points.values.tolist())\n",
    "points.resize(points.shape[0], 900, 1)\n",
    "print(points.shape)"
   ]
  },
  {
   "cell_type": "code",
   "execution_count": null,
   "metadata": {
    "id": "npO4niXnuLI1",
    "pycharm": {
     "name": "#%%\n"
    }
   },
   "outputs": [],
   "source": [
    "seed = 10\n",
    "np.random.seed(seed)\n",
    "X_train = points\n",
    "sz = X_train.shape[1]"
   ]
  },
  {
   "cell_type": "code",
   "execution_count": null,
   "metadata": {},
   "outputs": [],
   "source": [
    "X_train.shape"
   ]
  },
  {
   "cell_type": "code",
   "execution_count": null,
   "metadata": {
    "collapsed": false,
    "pycharm": {
     "name": "#%%\n"
    }
   },
   "outputs": [],
   "source": [
    "\n",
    "print(np.mean(X_train[1,:]))\n",
    "print(np.std(X_train[1,:]))"
   ]
  },
  {
   "attachments": {},
   "cell_type": "markdown",
   "metadata": {
    "pycharm": {
     "name": "#%% md\n"
    }
   },
   "source": [
    "#### Looking at some of the patterns"
   ]
  },
  {
   "cell_type": "code",
   "execution_count": null,
   "metadata": {
    "id": "s7fWpEuBuLI2",
    "outputId": "75281666-954c-4750-b1da-ab4e542fc6f6",
    "pycharm": {
     "name": "#%%\n"
    }
   },
   "outputs": [],
   "source": [
    "for yi in range(12):\n",
    "    plt.subplot(4, 3, yi + 1)\n",
    "    plt.plot(X_train[yi].ravel(), \"k-\", alpha=.2)"
   ]
  },
  {
   "attachments": {},
   "cell_type": "markdown",
   "metadata": {
    "id": "loG5BNA4uLI7",
    "pycharm": {
     "name": "#%% md\n"
    }
   },
   "source": [
    "## Training the model and saving the results (saved in /analysis/plots/cluster/).\n",
    "  * Using Euclidean distance"
   ]
  },
  {
   "cell_type": "code",
   "execution_count": null,
   "metadata": {},
   "outputs": [],
   "source": [
    "X_train.var()"
   ]
  },
  {
   "cell_type": "code",
   "execution_count": null,
   "metadata": {},
   "outputs": [],
   "source": [
    "X_train.shape"
   ]
  },
  {
   "cell_type": "code",
   "execution_count": null,
   "metadata": {},
   "outputs": [],
   "source": [
    "total_variance = X_train.var()"
   ]
  },
  {
   "cell_type": "code",
   "execution_count": null,
   "metadata": {},
   "outputs": [],
   "source": [
    "len(data)"
   ]
  },
  {
   "cell_type": "code",
   "execution_count": null,
   "metadata": {},
   "outputs": [],
   "source": [
    "total_variance"
   ]
  },
  {
   "cell_type": "code",
   "execution_count": null,
   "metadata": {
    "id": "4WBONmu8uLI8",
    "outputId": "acc704cc-cac6-4e14-8f40-e2b062621e38",
    "pycharm": {
     "name": "#%%\n"
    }
   },
   "outputs": [],
   "source": [
    "# Euclidean k-means\n",
    "\n",
    "seed = 10\n",
    "np.random.seed(seed)\n",
    "\n",
    "\n",
    "#n_clusterss = [12, 27]\n",
    "n_clusterss = [27] #[i for i in range(2, 30)]\n",
    "silhouette_scores = []\n",
    "wcss = []\n",
    "cluster_labelss = []\n",
    "\n",
    "cluster_types = {'decreasing': [8, 21, 17, 4, 15, 2, 12], 'increasing': [10, 13, 20, 14, 11, 25, 22, 7]}\n",
    "\n",
    "# Compute the total variance\n",
    "total_variance = X_train.var()\n",
    "\n",
    "for n_clusters in n_clusterss:\n",
    "    print(\"Euclidean k-means ---- {}\".format(n_clusters))\n",
    "    km = TimeSeriesKMeans(n_clusters=n_clusters, verbose=False, random_state=seed, n_jobs=-1)\n",
    "    cluster_labels = km.fit_predict(X_train)\n",
    "    cluster_labelss.append(cluster_labels)\n",
    "\n",
    "    wcscore = km.fit(X_train).inertia_\n",
    "    print(wcscore)\n",
    "    wcss.append(wcscore)\n",
    "\n",
    "    s_score = silhouette_score(X_train, cluster_labels, metric=\"euclidean\")\n",
    "    print(\"Euclidean silhoutte: {:.2f}\".format(s_score))\n",
    "    silhouette_scores.append(s_score)\n",
    "\n",
    "    # Calculate the percentage of variance explained\n",
    "    percentage_variance_explained = (1 - wcscore / (len(data) * total_variance)) * 100\n",
    "    print(\"Percentage of variance explained: {:.2f}%\".format(percentage_variance_explained))\n",
    "\n",
    "    if True:\n",
    "        centers = []\n",
    "        for i in range(0, n_clusters):\n",
    "            centers.append(list(km.cluster_centers_[i].flatten()))\n",
    "\n",
    "        import pickle\n",
    "        with open('cluster_curves.pkl','wb') as f:\n",
    "            pickle.dump(centers, f)\n",
    "\n",
    "        pd.DataFrame(np.asarray(centers).transpose()).to_csv(\"./data/cluster_centers.csv\")\n",
    "\n",
    "        # Plot each average curve independently:\n",
    "        for yi in range(n_clusters):\n",
    "            if yi in cluster_types['decreasing']:\n",
    "                color = \"#a30202\" # Red\n",
    "            elif yi in cluster_types['increasing']:\n",
    "                color = \"#2fa302\" # Green\n",
    "            else:\n",
    "                color = \"#b37d00\" # Orange\n",
    "\n",
    "            color = \"#99a692\"\n",
    "\n",
    "            plt.plot(km.cluster_centers_[yi].ravel(), \"r-\", linewidth=40, color=color)\n",
    "            plt.tight_layout()\n",
    "\n",
    "            plt.xlim(0, sz)\n",
    "            plt.ylim(0, 100)\n",
    "            plt.axis('off')\n",
    "\n",
    "            fig = matplotlib.pyplot.gcf()\n",
    "            fig.set_size_inches(18.5, 18.5)\n",
    "\n",
    "            plt.savefig(\"./plots/cluster/cluster_{}_{}.png\".format(yi, n_clusters))\n",
    "            plt.close()\n",
    "\n",
    "        continue\n",
    "\n",
    "        fig = plt.figure()\n",
    "        for yi in range(n_clusters):\n",
    "            ax = plt.subplot(4, 3, yi + 1)\n",
    "            for xx in X_train[cluster_labels == yi]:\n",
    "                plt.plot(xx.ravel(), \"k-\", alpha=.2)\n",
    "            plt.plot(km.cluster_centers_[yi].ravel(), \"r-\")\n",
    "\n",
    "            plt.xlim(0, sz)\n",
    "            plt.ylim(0, 100)\n",
    "            plt.text(0.37, 1.05,'Cluster %d' % (yi + 1),\n",
    "                    transform=plt.gca().transAxes, fontsize=20, fontweight='bold')\n",
    "\n",
    "            print(\"Cluster {} done!\".format(yi))\n",
    "\n",
    "        data['cluster_labels'] = cluster_labels\n",
    "        data.to_csv(\"./data/data_long_cluster_{}.csv\".format(str(n_clusters)))\n",
    "        plt.tight_layout(pad=1.2, h_pad=1.5)\n",
    "\n",
    "        fig = matplotlib.pyplot.gcf()\n",
    "        fig.set_size_inches(10, 20)\n",
    "        \n",
    "        fig.savefig(\"./plots/cluster/k_means_{}.png\".format(str(n_clusters)), dpi=500)\n",
    "        plt.close()"
   ]
  },
  {
   "cell_type": "code",
   "execution_count": null,
   "metadata": {},
   "outputs": [],
   "source": [
    "from matplotlib import pyplot as plt\n",
    "plt.style.use('ggplot')\n",
    "\n",
    "def plot_error_line(n_clusterss, wcss):\n",
    "    SMALL_SIZE = 26 * 1.7 * 9/10\n",
    "    MEDIUM_SIZE = 40 * 1.7 * 9/10\n",
    "    BIGGER_SIZE = 48 * 1.7 * 9/10\n",
    "\n",
    "    plt.rc('font', size=SMALL_SIZE)          # controls default text sizes\n",
    "    plt.rc('axes', titlesize=SMALL_SIZE)     # fontsize of the axes title\n",
    "    plt.rc('axes', labelsize=MEDIUM_SIZE)    # fontsize of the x and y labels\n",
    "    plt.rc('xtick', labelsize=SMALL_SIZE)    # fontsize of the tick labels\n",
    "    plt.rc('ytick', labelsize=SMALL_SIZE)    # fontsize of the tick labels\n",
    "    plt.rc('legend', fontsize=SMALL_SIZE)    # legend fontsize\n",
    "    plt.rc('figure', titlesize=BIGGER_SIZE + 1)  # fontsize of the figure title\n",
    "    plt.figure()\n",
    "\n",
    "    plt.plot(n_clusterss, wcss, linewidth=4)\n",
    "    plt.ylabel(\"WCSS\", fontweight='bold')\n",
    "    plt.xlabel(\"Number of Clusters\", fontweight='bold')\n",
    "\n",
    "    plt.tight_layout()\n",
    "\n",
    "\n",
    "    ax = plt.gca()\n",
    "    ax.spines['top'].set_visible(False)\n",
    "    ax.spines['right'].set_visible(False)\n",
    "\n",
    "    plt.gcf().set_size_inches(30, 10)\n",
    "    plt.savefig(\"./plots/cluster_elbow.png\", dpi=500)\n",
    "\n",
    "from kneed import KneeLocator\n",
    "kn = KneeLocator(n_clusterss, wcss, curve='convex', direction='decreasing')\n",
    "print(kn.knee)\n",
    "\n",
    "plot_error_line(n_clusterss, wcss)\n"
   ]
  },
  {
   "cell_type": "code",
   "execution_count": null,
   "metadata": {},
   "outputs": [],
   "source": [
    "wcss"
   ]
  },
  {
   "cell_type": "code",
   "execution_count": null,
   "metadata": {},
   "outputs": [],
   "source": [
    "plt.plot(n_clusterss, silhouette_scores)"
   ]
  }
 ],
 "metadata": {
  "colab": {
   "provenance": []
  },
  "kernelspec": {
   "display_name": "Python 3",
   "language": "python",
   "name": "python3"
  },
  "language_info": {
   "codemirror_mode": {
    "name": "ipython",
    "version": 3
   },
   "file_extension": ".py",
   "mimetype": "text/x-python",
   "name": "python",
   "nbconvert_exporter": "python",
   "pygments_lexer": "ipython3",
   "version": "3.8.16"
  },
  "vscode": {
   "interpreter": {
    "hash": "0ba5ede13f0387f51f50b72b517e398c81deb77e749ad9440ae5ea50ce01832d"
   }
  }
 },
 "nbformat": 4,
 "nbformat_minor": 0
}
