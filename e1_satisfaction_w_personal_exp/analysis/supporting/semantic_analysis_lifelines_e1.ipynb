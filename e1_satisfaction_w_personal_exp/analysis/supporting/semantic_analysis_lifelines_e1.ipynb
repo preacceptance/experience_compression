{
 "cells": [
  {
   "cell_type": "markdown",
   "metadata": {
    "id": "pOTzp8O36CyQ",
    "pycharm": {
     "name": "#%% md\n"
    }
   },
   "source": [
    "# Universal Sentence Encoder\n",
    "\n",
    "Get sentence embeddings using the model described here: https://tfhub.dev/google/universal-sentence-encoder/4"
   ]
  },
  {
   "cell_type": "code",
   "execution_count": null,
   "metadata": {
    "id": "lVjNK8shFKOC",
    "pycharm": {
     "name": "#%%\n"
    }
   },
   "outputs": [],
   "source": [
    "!pip install --quiet tensorflow==2.2.0\n",
    "!pip install --quiet tensorflow-hub\n",
    "!pip install --quiet seaborn"
   ]
  },
  {
   "cell_type": "code",
   "execution_count": null,
   "metadata": {
    "colab": {
     "base_uri": "https://localhost:8080/"
    },
    "id": "zwty8Z6mAkdV",
    "outputId": "ff690cd7-46a6-4de8-86e3-59ae5cba1d5a",
    "pycharm": {
     "name": "#%%\n"
    }
   },
   "outputs": [],
   "source": [
    "import tensorflow as tf\n",
    "tf.executing_eagerly()\n",
    "import tensorflow_hub as hub\n",
    "import numpy as np\n",
    "import seaborn as sns\n",
    "import matplotlib.pyplot as plt\n",
    "import pickle\n",
    "import math\n",
    "import csv\n",
    "import pandas as pd\n",
    "from pdb import set_trace\n",
    "\n",
    "print(tf.__version__)"
   ]
  },
  {
   "cell_type": "markdown",
   "metadata": {
    "id": "cr7flKSTsD4f",
    "pycharm": {
     "name": "#%% md\n"
    }
   },
   "source": [
    "**Mount drive**"
   ]
  },
  {
   "cell_type": "code",
   "execution_count": null,
   "metadata": {
    "colab": {
     "base_uri": "https://localhost:8080/"
    },
    "id": "HkzditNYcUgi",
    "outputId": "f1632a04-4f98-4368-ca02-ce5f469e503a",
    "pycharm": {
     "name": "#%%\n"
    }
   },
   "outputs": [],
   "source": [
    "from google.colab import drive\n",
    "from google.colab import files\n",
    "drive.mount('/content/drive')\n",
    "\n",
    "root_path = '/content/drive/My Drive/Lab Stuff/'"
   ]
  },
  {
   "cell_type": "markdown",
   "metadata": {
    "id": "KMSmgH_G_lCh",
    "pycharm": {
     "name": "#%% md\n"
    }
   },
   "source": []
  },
  {
   "cell_type": "markdown",
   "metadata": {
    "id": "AAZiAuhmsBno",
    "pycharm": {
     "name": "#%% md\n"
    }
   },
   "source": [
    "**Import data**"
   ]
  },
  {
   "cell_type": "code",
   "execution_count": null,
   "metadata": {
    "colab": {
     "base_uri": "https://localhost:8080/"
    },
    "id": "AZv69peodOma",
    "outputId": "1e9181cb-0bb0-4543-e5c8-e7f931a2b7aa",
    "pycharm": {
     "name": "#%%\n"
    }
   },
   "outputs": [],
   "source": [
    "descriptions = []\n",
    "lifeline_ids = []\n",
    "descr_counts = []\n",
    "\n",
    "data_dirs =['word_analysis_e1b.csv']\n",
    "\n",
    "for index, data in enumerate(data_dirs): \n",
    "  print(root_path + data)\n",
    "  with open(root_path + data) as f: \n",
    "    csv_reader = csv.reader(f, delimiter=',')\n",
    "    next(csv_reader)\n",
    "    for row in csv_reader:\n",
    "        descriptions.append((row[1], row[0], index))\n",
    "        lifeline_ids.append(row[0])\n",
    "        descr_counts.append(3)\n",
    "\n",
    "print('lifeline ids:', lifeline_ids)\n",
    "print('num lifelines:', len(lifeline_ids))\n",
    "print('descr counts:', len(descriptions))"
   ]
  },
  {
   "cell_type": "markdown",
   "metadata": {
    "id": "zYJCjT40rkRl",
    "pycharm": {
     "name": "#%% md\n"
    }
   },
   "source": [
    "**Compute embeddings and correlations**"
   ]
  },
  {
   "cell_type": "code",
   "execution_count": null,
   "metadata": {
    "colab": {
     "base_uri": "https://localhost:8080/",
     "height": 50
    },
    "id": "FrHRsN3rb_0U",
    "outputId": "a4ccf889-5d6d-4734-d328-8bb0b943f58d",
    "pycharm": {
     "name": "#%%\n"
    }
   },
   "outputs": [],
   "source": [
    "embed = hub.load(\"https://tfhub.dev/google/universal-sentence-encoder/3\")\n",
    "descr_embeddings = embed([desc for desc, _, _ in descriptions])['outputs'].numpy()\n",
    "# correlation_matrix = np.inner(descr_embeddings, descr_embeddings)\n",
    "correlation_matrix = np.corrcoef(descr_embeddings)\n",
    "\n",
    "print(descr_embeddings.shape)\n",
    "print(correlation_matrix.shape)"
   ]
  },
  {
   "cell_type": "code",
   "execution_count": null,
   "metadata": {
    "colab": {
     "base_uri": "https://localhost:8080/",
     "height": 955
    },
    "id": "vW1vfPQAoZFc",
    "outputId": "a2a680ff-c7f0-46bb-a672-e0d1f2258dd8",
    "pycharm": {
     "name": "#%%\n"
    }
   },
   "outputs": [],
   "source": [
    "#plot correlation matrix\n",
    "\n",
    "x_axis_labels = lifeline_ids\n",
    "y_axis_labels = lifeline_ids\n",
    "\n",
    "import matplotlib.pyplot as plt\n",
    "sns.set(style='ticks', color_codes=True)\n",
    "plt.figure(figsize=(15, 15))\n",
    "sns.heatmap(correlation_matrix.astype(float).round(1), \n",
    "            linewidths=0.1, \n",
    "            square=True, \n",
    "            linecolor='white', \n",
    "            annot=True,\n",
    "            xticklabels=x_axis_labels, yticklabels=y_axis_labels)\n",
    "plt.show()"
   ]
  },
  {
   "cell_type": "markdown",
   "metadata": {
    "id": "HKCBbKPEiN9h",
    "pycharm": {
     "name": "#%% md\n"
    }
   },
   "source": [
    "**Download embeddings and correlations**"
   ]
  },
  {
   "cell_type": "code",
   "execution_count": null,
   "metadata": {
    "colab": {
     "base_uri": "https://localhost:8080/",
     "height": 17
    },
    "id": "FR8G87gziLqK",
    "outputId": "b8f69d65-8853-4b9f-97bb-d62d12b865ad",
    "pycharm": {
     "name": "#%%\n"
    }
   },
   "outputs": [],
   "source": [
    "#download embeddings\n",
    "embeddings_export = pd.DataFrame(descr_embeddings)\n",
    "embeddings_export.to_csv('embeddings_e1b.csv')\n",
    "files.download('embeddings_e1b.csv')\n",
    "\n",
    "#download correlations\n",
    "correlations_export = pd.DataFrame(correlation_matrix)\n",
    "correlations_export.to_csv('correlations_e1b.csv')\n",
    "files.download('correlations_e1b.csv')"
   ]
  },
  {
   "cell_type": "markdown",
   "metadata": {
    "id": "AqQ8e4M7riWF",
    "pycharm": {
     "name": "#%% md\n"
    }
   },
   "source": [
    "**Group same-video correlations and different-video correlations**"
   ]
  },
  {
   "cell_type": "code",
   "execution_count": null,
   "metadata": {
    "id": "Ug4ApnFEg2Uq",
    "pycharm": {
     "name": "#%%\n"
    }
   },
   "outputs": [],
   "source": [
    "same_vid_results = []\n",
    "diff_vid_results = []\n",
    "for i, (descr_1, vid_id_1, subject_1) in enumerate(descriptions):\n",
    "  for j, (descr_2, vid_id_2, subject_2) in enumerate(descriptions):\n",
    "    if j <= i: continue\n",
    "    result = {'descr_1': descr_1,\n",
    "              'vid_id_1': vid_id_1,\n",
    "              'descr_2': descr_2,\n",
    "              'vid_id_2': vid_id_2,\n",
    "              'corr': correlation_matrix[i, j]}\n",
    "    if result['vid_id_1'] == result['vid_id_2']:\n",
    "      same_vid_results.append(result)\n",
    "    else:\n",
    "      diff_vid_results.append(result)"
   ]
  },
  {
   "cell_type": "markdown",
   "metadata": {
    "id": "Cs5yS2ewsQ-W",
    "pycharm": {
     "name": "#%% md\n"
    }
   },
   "source": [
    "**Plotting helpers**"
   ]
  },
  {
   "cell_type": "code",
   "execution_count": null,
   "metadata": {
    "id": "h1FFCTKm7ba4",
    "pycharm": {
     "name": "#%%\n"
    }
   },
   "outputs": [],
   "source": [
    "def dist_compare(same_vid_scores, diff_vid_scores):\n",
    "  sns.set(rc={'figure.figsize': (11.7, 8.27)})\n",
    "  sns.distplot(diff_vid_scores, color='blue')\n",
    "  sns.distplot([s for vid_l in list(same_vid_scores.values()) for s in vid_l], color='red')\n",
    "\n",
    "def plot_grid(same_vid_scores, diff_vid_scores):\n",
    "  fig = plt.figure()\n",
    "  fig.set_size_inches(18.5*1, 10.5*1)\n",
    "  fig.subplots_adjust(hspace=0.4, wspace=0.4)\n",
    "\n",
    "  for i, vid_id in enumerate(vid_ids):\n",
    "    scores = same_vid_scores[vid_id]\n",
    "\n",
    "    grid_height = math.ceil(math.sqrt(len(vid_ids)))\n",
    "    grid_width = math.ceil(len(vid_ids) / grid_height)\n",
    "    ax = fig.add_subplot(grid_height, grid_width, i+1)\n",
    "    ax.set_xlim([-0.3, 1.1])\n",
    "    title = 'ID: ' + vid_id + ', # descrs: ' + str(descr_counts[i])\n",
    "    sns.distplot(diff_vid_scores).set_title(title)\n",
    "    custom_rug = {'color': 'r', 'alpha': 1.0, 'linewidth': 1.5, 'height': 0.6}\n",
    "    sns.distplot(scores, kde=False, rug=True, hist=False, rug_kws=custom_rug)\n",
    "\n",
    "  #plt.savefig(\"leyla_fig.png\", dpi=150)\n",
    "  #files.download(\"leyla_fig.png\")\n",
    "  plt.show()\n",
    "  \n",
    "def excl_noisy(scores_dict):\n",
    "  noisy_vid_id = [v for i, v in enumerate(vid_ids) if descr_counts[i]==48][0]\n",
    "  return {k: v for k, v in scores_dict.items() if k!= noisy_vid_id}"
   ]
  },
  {
   "cell_type": "markdown",
   "metadata": {
    "id": "vQIWOpbzuUyn",
    "pycharm": {
     "name": "#%% md\n"
    }
   },
   "source": [
    "**Description's correlation with average same vid vs. different vid embedding**"
   ]
  },
  {
   "cell_type": "code",
   "execution_count": null,
   "metadata": {
    "id": "5LniG4tFua4g",
    "pycharm": {
     "name": "#%%\n"
    }
   },
   "outputs": [],
   "source": [
    "same_vid_corr_avgs_info = []\n",
    "\n",
    "same_vid_corr_avgs = {vid_id: [] for vid_id in vid_ids}\n",
    "diff_vid_corr_avgs = []\n",
    "for i, (descr, vid_id, ss) in enumerate(descriptions):\n",
    "  same_vid_descrs_idxs = [i for i, (d, v, s) in enumerate(descriptions)\n",
    "                          if v == vid_id and d != descr]\n",
    "  diff_vid_descrs_idxs = [i for i, (d, v, s) in enumerate(descriptions)\n",
    "                          if v != vid_id]\n",
    "\n",
    "  mean_same_vid_descr = np.mean(descr_embeddings[same_vid_descrs_idxs], axis=0)\n",
    "  mean_diff_vid_descr = np.mean(descr_embeddings[diff_vid_descrs_idxs], axis=0)\n",
    "\n",
    "  same_vid_corr_avg = np.correlate(descr_embeddings[i], mean_same_vid_descr)[0]\n",
    "  diff_vid_corr_avg = np.correlate(descr_embeddings[i], mean_diff_vid_descr)[0]\n",
    "\n",
    "  if not np.isnan(same_vid_corr_avg):\n",
    "    same_vid_corr_avgs[vid_id].append(same_vid_corr_avg)\n",
    "    same_vid_corr_avgs_info.append((vid_id, descr, list(np.array(descriptions)[same_vid_descrs_idxs]), same_vid_corr_avg))\n",
    "  diff_vid_corr_avgs.append(diff_vid_corr_avg)"
   ]
  },
  {
   "cell_type": "markdown",
   "metadata": {
    "id": "WqLpDnfovxeB",
    "pycharm": {
     "name": "#%% md\n"
    }
   },
   "source": [
    "**Plot distributions**"
   ]
  },
  {
   "cell_type": "code",
   "execution_count": null,
   "metadata": {
    "colab": {
     "base_uri": "https://localhost:8080/",
     "height": 1000
    },
    "id": "TfpYts3evzsS",
    "outputId": "7aff758b-fa7c-4396-8602-920e7d9a80da",
    "pycharm": {
     "name": "#%%\n"
    }
   },
   "outputs": [],
   "source": [
    "dist_compare(same_vid_corr_avgs, diff_vid_corr_avgs)\n",
    "plot_grid(same_vid_corr_avgs, diff_vid_corr_avgs)"
   ]
  },
  {
   "cell_type": "markdown",
   "metadata": {
    "id": "Gm5YXwR_v9Ha",
    "pycharm": {
     "name": "#%% md\n"
    }
   },
   "source": [
    "**Inspect questionable cases**"
   ]
  },
  {
   "cell_type": "code",
   "execution_count": null,
   "metadata": {
    "colab": {
     "base_uri": "https://localhost:8080/",
     "height": 1000
    },
    "id": "o41DwB1SwApk",
    "outputId": "d380b4e1-3ac4-47a0-e0e4-2d7cd712fb82",
    "pycharm": {
     "name": "#%%\n"
    }
   },
   "outputs": [],
   "source": [
    "# metric_info = same_vid_corrs_info\n",
    "# metric_info = same_vid_avgs_info\n",
    "metric_info = same_vid_corr_avgs_info\n",
    "\n",
    "threshold = 0.3 #only display descriptions with correlations lower than this value.\n",
    "\n",
    "prev_vid_id = ''\n",
    "for vid_id, item, items, score in metric_info:\n",
    "  # if vid_id == vid_ids[0]: continue\n",
    "  if score > threshold: continue\n",
    "  if vid_id != prev_vid_id:\n",
    "    descr_count = descr_counts[vid_ids.index(vid_id)]\n",
    "    print('\\n' + '*'*100)\n",
    "    print('Video ID: {} (num descriptions: {})\\n'.format(vid_id, descr_count))\n",
    "    prev_vid_id = vid_id\n",
    "  print('score: {}'.format(score))\n",
    "  if isinstance(item, tuple):\n",
    "    print('descr 1: {}'.format(item[0]))\n",
    "    print('descr 2: {}\\n'.format(item[1]))\n",
    "  else:\n",
    "    print('descr: {}\\n'.format(item))\n",
    "    print('the rest: {}\\n'.format(items))"
   ]
  }
 ],
 "metadata": {
  "accelerator": "GPU",
  "colab": {
   "collapsed_sections": [],
   "name": "semantic_analysis_lifelines_e1",
   "provenance": []
  },
  "kernelspec": {
   "display_name": "Python 3.8.8",
   "language": "python",
   "name": "python3"
  },
  "language_info": {
   "name": "python",
   "version": "3.8.8"
  },
  "vscode": {
   "interpreter": {
    "hash": "e776215447cc33219b0f49b106d9517ed90fcf7875ede76c3b06a857fe7cfa1e"
   }
  }
 },
 "nbformat": 4,
 "nbformat_minor": 0
}
